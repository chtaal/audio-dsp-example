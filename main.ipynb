{
 "cells": [
  {
   "cell_type": "code",
   "execution_count": null,
   "id": "efdb97e4",
   "metadata": {},
   "outputs": [],
   "source": [
    "%matplotlib notebook\n",
    "from IPython.display import Audio as Play\n",
    "from IPython.display import display\n",
    "from scipy.io import wavfile\n",
    "import matplotlib\n",
    "from matplotlib import pyplot as plt\n",
    "import numpy as np\n",
    "import pandas as pd\n",
    "from scipy.signal.windows import hann\n",
    "from scipy import signal"
   ]
  },
  {
   "cell_type": "code",
   "execution_count": null,
   "id": "21c1b915",
   "metadata": {},
   "outputs": [],
   "source": [
    "# read file\n",
    "path = \"beat.wav\"\n",
    "samplerate, data = wavfile.read(path)\n",
    "data = data[:, 0]/2**16  # scale between -1 and 1"
   ]
  },
  {
   "cell_type": "code",
   "execution_count": null,
   "id": "c3525a4e",
   "metadata": {},
   "outputs": [],
   "source": [
    "# plot and play signal\n",
    "def show_signal(x, samplerate):\n",
    "    plt.figure()\n",
    "    plt.plot(np.arange(len(x))/samplerate, x)\n",
    "    plt.xlabel(\"time(s)\")\n",
    "    plt.grid(True)\n",
    "    return Play(x, rate=samplerate)"
   ]
  },
  {
   "cell_type": "code",
   "execution_count": null,
   "id": "f3256ddc",
   "metadata": {},
   "outputs": [],
   "source": [
    "show_signal(data, samplerate)"
   ]
  },
  {
   "cell_type": "code",
   "execution_count": null,
   "id": "07ade5d4",
   "metadata": {},
   "outputs": [],
   "source": [
    "# we use pandas to have fast frame based processing with little code :)\n",
    "win_size = 2048\n",
    "overlap = 1024\n",
    "idx_frame = np.arange(0, len(data)-win_size, overlap)\n",
    "df_frames = pd.DataFrame(data=idx_frame, columns=[\"frame_start\"])\n",
    "df_frames[\"frames\"] = df_frames[\"frame_start\"].apply(lambda x: data[x:(x+win_size)])\n",
    "df_frames = df_frames.set_index(\"frame_start\", drop=True)\n",
    "df_frames"
   ]
  },
  {
   "cell_type": "code",
   "execution_count": null,
   "id": "556933a3",
   "metadata": {},
   "outputs": [],
   "source": [
    "# extract rms per frame\n",
    "window = hann(win_size)\n",
    "df_frames[\"rms\"] = df_frames[\"frames\"].apply(lambda x: np.sqrt(np.mean((x*window)**2)))\n",
    "plt.figure()\n",
    "plt.plot(data, label=\"signal\")\n",
    "plt.plot(df_frames[\"rms\"], label=\"rms\")\n",
    "plt.legend()\n",
    "df_frames"
   ]
  },
  {
   "cell_type": "code",
   "execution_count": null,
   "id": "788f7245",
   "metadata": {},
   "outputs": [],
   "source": [
    "# let's attach the rms to a lowpass filter cutoff frequency :)\n",
    "# first convert rms to a cutoff value\n",
    "cutoff = (df_frames[\"rms\"]-df_frames[\"rms\"].min()) / (df_frames[\"rms\"].max() - df_frames[\"rms\"].min())\n",
    "cutoff_min = 250\n",
    "cutoff_max = 20000\n",
    "df_frames[\"cutoff\"] = cutoff*(cutoff_max - cutoff_min)\n",
    "df_frames[\"cutoff\"] = df_frames[\"cutoff\"].clip(cutoff_min, cutoff_max)\n",
    "df_frames.plot(subplots=True, grid=True)\n",
    "df_frames"
   ]
  },
  {
   "cell_type": "code",
   "execution_count": null,
   "id": "89c6d799",
   "metadata": {},
   "outputs": [],
   "source": [
    "# now filter each frame\n",
    "def filter_signal(data):\n",
    "    frame = data[\"frames\"]\n",
    "    cutoff = data[\"cutoff\"]\n",
    "    w = cutoff / (samplerate / 2) # Normalize the frequency\n",
    "    b, a = signal.butter(5, w, 'low')\n",
    "    return signal.lfilter(b, a, frame)\n",
    "\n",
    "df_frames[\"frames_filtered\"] = df_frames[[\"frames\", \"cutoff\"]].apply(filter_signal, axis=1)\n",
    "df_frames"
   ]
  },
  {
   "cell_type": "code",
   "execution_count": null,
   "id": "33792d94",
   "metadata": {
    "scrolled": true
   },
   "outputs": [],
   "source": [
    "# overlapp add signals windowed\n",
    "y = np.zeros(len(data))\n",
    "def overlap_add(x):\n",
    "    idx_start = x.name\n",
    "    idx_end = idx_start + win_size\n",
    "    idx_end = np.min([idx_end, len(y)])\n",
    "    y[idx_start:idx_end] = y[idx_start:idx_end] + window*x[\"frames_filtered\"]\n",
    "    \n",
    "df_frames[[\"frames_filtered\"]].apply(overlap_add, axis=1)\n",
    "show_signal(y, samplerate)"
   ]
  },
  {
   "cell_type": "code",
   "execution_count": null,
   "id": "0e0ee383",
   "metadata": {},
   "outputs": [],
   "source": [
    "wavfile.write(\"beat_processed.wav\", samplerate, (y*2**16).astype(np.int16))"
   ]
  }
 ],
 "metadata": {
  "kernelspec": {
   "display_name": "Python 3",
   "language": "python",
   "name": "python3"
  },
  "language_info": {
   "codemirror_mode": {
    "name": "ipython",
    "version": 3
   },
   "file_extension": ".py",
   "mimetype": "text/x-python",
   "name": "python",
   "nbconvert_exporter": "python",
   "pygments_lexer": "ipython3",
   "version": "3.8.8"
  }
 },
 "nbformat": 4,
 "nbformat_minor": 5
}
